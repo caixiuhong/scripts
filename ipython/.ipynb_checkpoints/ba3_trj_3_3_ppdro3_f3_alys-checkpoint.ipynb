{
 "cells": [
  {
   "cell_type": "code",
   "execution_count": 3,
   "metadata": {
    "collapsed": true
   },
   "outputs": [],
   "source": [
    "import mdtraj as md\n",
    "import numpy as np"
   ]
  },
  {
   "cell_type": "code",
   "execution_count": 4,
   "metadata": {
    "collapsed": false
   },
   "outputs": [],
   "source": [
    "ppdro3_f3_3_t1 = md.load('/Users/caixiuhong/Dropbox/cai/btype_cco/snapshot/Btype CcO MD/Btype CcO MD/3_ppdro3_f3/md_nvt_12ns_100.dcd',\\\n",
    "             top='/Users/caixiuhong/Dropbox/cai/btype_cco/snapshot/Btype CcO MD/Btype CcO MD//3_ppdro3_f3/md_nvt_init.pdb')\n",
    "ppdro3_f3_3_t2 = md.load('/Users/caixiuhong/Dropbox/cai/btype_cco/snapshot/Btype CcO MD/Btype CcO MD/3_ppdro3_f3/md_nvt_25ns_100.dcd',\\\n",
    "             top='/Users/caixiuhong/Dropbox/cai/btype_cco/snapshot/Btype CcO MD/Btype CcO MD/3_ppdro3_f3/md_nvt_12ns.pdb')\n",
    "ppdro3_f3_3_t3=md.load('/Users/caixiuhong/Dropbox/cai/btype_cco/snapshot/Btype CcO MD/Btype CcO MD/3_ppdro3_f3/md_nvt_37ns_100.dcd',\\\n",
    "             top='/Users/caixiuhong/Dropbox/cai/btype_cco/snapshot/Btype CcO MD/Btype CcO MD/3_ppdro3_f3/md_nvt_25ns.pdb')\n",
    "ppdro3_f3_3_t4=md.load('/Users/caixiuhong/Dropbox/cai/btype_cco/snapshot/Btype CcO MD/Btype CcO MD/3_ppdro3_f3/md_nvt_50ns_100.dcd',\\\n",
    "             top='/Users/caixiuhong/Dropbox/cai/btype_cco/snapshot/Btype CcO MD/Btype CcO MD/3_ppdro3_f3/md_nvt_37ns.pdb')"
   ]
  },
  {
   "cell_type": "code",
   "execution_count": 5,
   "metadata": {
    "collapsed": false
   },
   "outputs": [
    {
     "name": "stdout",
     "output_type": "stream",
     "text": [
      "<mdtraj.Trajectory with 126 frames, 105353 atoms, 23390 residues, and unitcells>\n",
      "<mdtraj.Trajectory with 126 frames, 105353 atoms, 23390 residues, and unitcells> <mdtraj.Trajectory with 126 frames, 105353 atoms, 23390 residues, and unitcells> <mdtraj.Trajectory with 126 frames, 105353 atoms, 23390 residues, and unitcells>\n"
     ]
    }
   ],
   "source": [
    "print(ppdro3_f3_3_t1)\n",
    "print(ppdro3_f3_3_t2,ppdro3_f3_3_t3,ppdro3_f3_3_t4)"
   ]
  },
  {
   "cell_type": "code",
   "execution_count": 7,
   "metadata": {
    "collapsed": false
   },
   "outputs": [
    {
     "name": "stdout",
     "output_type": "stream",
     "text": [
      "[SER303-N, SER303-H, SER303-CA, SER303-HA, SER303-CB, SER303-HB3, SER303-HB2, SER303-OG, SER303-HG, SER303-C, SER303-O]\n",
      "SER303-OG\n",
      "[THR306-N, THR306-H, THR306-CA, THR306-HA, THR306-CB, THR306-HB, THR306-OG1, THR306-HG1, THR306-CG2, THR306-HG21, THR306-HG22, THR306-HG23, THR306-C, THR306-O]\n",
      "THR306-OG1\n",
      "TYR242-HH\n",
      "[THR309-N, THR309-H, THR309-CA, THR309-HA, THR309-CB, THR309-HB, THR309-OG1, THR309-HG1, THR309-CG2, THR309-HG21, THR309-HG22, THR309-HG23, THR309-C, THR309-O]\n",
      "[THR309-N, THR309-H, THR309-CA, THR309-HA, THR309-CB, THR309-HB, THR309-OG1, THR309-HG1, THR309-CG2, THR309-HG21, THR309-HG22, THR309-HG23, THR309-C, THR309-O]\n"
     ]
    }
   ],
   "source": [
    "##atom selection\n",
    "ser_309=[atom for atom in ppdro3_f3_3_t1.topology.atoms if ((atom.residue.name == 'SER') and (atom.residue.index == 302))]\n",
    "print(ser_309)\n",
    "ser_309_o=ser_309[7]\n",
    "print(ser_309_o)\n",
    "\n",
    "thr_312=[atom for atom in ppdro3_f3_3_t1.topology.atoms if ((atom.residue.name == 'THR') and (atom.residue.index == 305))]\n",
    "print(thr_312)\n",
    "thr_312_o=thr_312[6]\n",
    "thr_312_h=thr_312[7]\n",
    "print(thr_312_o)\n",
    "\n",
    "tyr_244=[atom for atom in ppdro3_f3_3_t1.topology.atoms if ((atom.residue.name == 'TYR') and (atom.residue.index == 237))]\n",
    "tyr_244_o=tyr_244[13]\n",
    "\n",
    "tyr_248=[atom for atom in ppdro3_f3_3_t1.topology.atoms if ((atom.residue.name == 'TYR') and (atom.residue.index == 241))]\n",
    "tyr_248_o=tyr_248[13]\n",
    "tyr_248_h=tyr_248[14]\n",
    "print(tyr_248_h)\n",
    "\n",
    "thr_315=[atom for atom in ppdro3_f3_3_t1.topology.atoms if ((atom.residue.name == 'THR') and (atom.residue.index == 308))]\n",
    "print(thr_315)\n",
    "thr_315_o=thr_315[6]\n",
    "thr_315_h=thr_315[7]\n",
    "print(thr_315)"
   ]
  },
  {
   "cell_type": "code",
   "execution_count": 8,
   "metadata": {
    "collapsed": true
   },
   "outputs": [],
   "source": [
    "def if_hb(trj, don_at, don_h, acc_at):\n",
    "    #input trajectory, donor atom, donor H and acceptor atom in a trajectory, \n",
    "    #return 1 if hydrogen bonded between the supplied atoms in each frame of a trajectory, 0 otherwise\n",
    "    #criterior: distance Donor atom ---acceptor atom dist < 4.0 anstrom, angle >90 degree\n",
    "    pair= np.asarray([[don_at.index, acc_at.index]])\n",
    "    tup=np.asarray([[don_at.index,don_h.index,acc_at.index]])\n",
    "    dist=md.compute_distances(trj, pair, periodic=False)\n",
    "    ang=md.compute_angles(trj, tup, periodic=False)\n",
    "    \n",
    "    \n",
    "    hbs=[]\n",
    "    for i in range(trj.n_frames):\n",
    "        if ((dist[i])*10 < 4.0) and ((ang[i])*180/np.pi > 90 ) :\n",
    "            hb=[1]\n",
    "        else: \n",
    "            hb=[0]\n",
    "            #print('broken')\n",
    "        hbs.append(hb)\n",
    "    return np.asarray(hbs)"
   ]
  },
  {
   "cell_type": "code",
   "execution_count": 9,
   "metadata": {
    "collapsed": true
   },
   "outputs": [],
   "source": [
    "hb_tyr248_thr312_1=if_hb(ppdro3_f3_3_t1,tyr_248_o, tyr_248_h, thr_312_o)\n",
    "hb_tyr248_thr312_2=if_hb(ppdro3_f3_3_t2,tyr_248_o, tyr_248_h, thr_312_o)\n",
    "hb_tyr248_thr312_3=if_hb(ppdro3_f3_3_t3,tyr_248_o, tyr_248_h, thr_312_o)\n",
    "hb_tyr248_thr312_4=if_hb(ppdro3_f3_3_t4,tyr_248_o, tyr_248_h, thr_312_o)\n",
    "hb_tyr248_thr312=np.concatenate((hb_tyr248_thr312_1, hb_tyr248_thr312_2[1:], \\\n",
    "                                 hb_tyr248_thr312_3[1:],hb_tyr248_thr312_4[1:]), axis=0)\n",
    "\n",
    "hb_thr315_tyr248_1=if_hb(ppdro3_f3_3_t1,thr_315_o, thr_315_h, tyr_248_o)\n",
    "hb_thr315_tyr248_2=if_hb(ppdro3_f3_3_t2,thr_315_o, thr_315_h, tyr_248_o)\n",
    "hb_thr315_tyr248_3=if_hb(ppdro3_f3_3_t3,thr_315_o, thr_315_h, tyr_248_o)\n",
    "hb_thr315_tyr248_4=if_hb(ppdro3_f3_3_t4,thr_315_o, thr_315_h, tyr_248_o)\n",
    "hb_thr315_tyr248=np.concatenate((hb_thr315_tyr248_1, hb_thr315_tyr248_2[1:],\\\n",
    "                                 hb_thr315_tyr248_3[1:],hb_thr315_tyr248_4[1:]), axis=0)\n",
    "\n",
    "hb_thr312_tyr244_1=if_hb(ppdro3_f3_3_t1,thr_312_o, thr_312_h, tyr_244_o)\n",
    "hb_thr312_tyr244_2=if_hb(ppdro3_f3_3_t2,thr_312_o, thr_312_h, tyr_244_o)\n",
    "hb_thr312_tyr244_3=if_hb(ppdro3_f3_3_t3,thr_312_o, thr_312_h, tyr_244_o)\n",
    "hb_thr312_tyr244_4=if_hb(ppdro3_f3_3_t4,thr_312_o, thr_312_h, tyr_244_o)\n",
    "hb_thr312_tyr244=np.concatenate((hb_thr312_tyr244_1, hb_thr312_tyr244_2[1:],\\\n",
    "                                 hb_thr312_tyr244_3[1:],hb_thr312_tyr244_4[1:]), axis=0)"
   ]
  },
  {
   "cell_type": "code",
   "execution_count": 11,
   "metadata": {
    "collapsed": false
   },
   "outputs": [
    {
     "data": {
      "image/png": "[encoded data removed]",
      "text/plain": [
       "<matplotlib.figure.Figure at 0x1165c26d8>"
      ]
     },
     "metadata": {},
     "output_type": "display_data"
    }
   ],
   "source": [
    "from matplotlib.pylab import *\n",
    "\n",
    "time=np.concatenate((ppdro3_f3_3_t1.time, (125+ppdro3_f3_3_t2.time)[1:], \\\n",
    "                     (250+ ppdro3_f3_3_t3.time)[1:],\\\n",
    "                     (375+ ppdro3_f3_3_t3.time)[1:] ), axis=0)\n",
    "#print(pddro2_t1.n_frames)\n",
    "#print(time)\n",
    "\n",
    "plot(time/10, hb_thr312_tyr244, 'r-', label='thr312_tyr244 hb')\n",
    "plot(time/10, hb_tyr248_thr312, 'b-', label='tyr248_thr312 hb')\n",
    "plot(time/10, hb_thr315_tyr248, 'g-', label='thr315_tyr248 hb')\n",
    "\n",
    "xlabel('Time [ns]', size=16)\n",
    "ylabel('tyr248_thr312 hb', size=16)\n",
    "legend()\n",
    "show()"
   ]
  },
  {
   "cell_type": "code",
   "execution_count": null,
   "metadata": {
    "collapsed": true
   },
   "outputs": [],
   "source": []
  }
 ],
 "metadata": {
  "kernelspec": {
   "display_name": "Python 3",
   "language": "python",
   "name": "python3"
  },
  "language_info": {
   "codemirror_mode": {
    "name": "ipython",
    "version": 3
   },
   "file_extension": ".py",
   "mimetype": "text/x-python",
   "name": "python",
   "nbconvert_exporter": "python",
   "pygments_lexer": "ipython3",
   "version": "3.6.0"
  }
 },
 "nbformat": 4,
 "nbformat_minor": 2
}
