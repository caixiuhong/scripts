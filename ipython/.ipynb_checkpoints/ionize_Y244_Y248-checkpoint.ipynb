{
 "cells": [
  {
   "cell_type": "code",
   "execution_count": 18,
   "metadata": {
    "collapsed": true
   },
   "outputs": [],
   "source": [
    "import csv\n",
    "import pandas\n",
    "import matplotlib.pyplot as plt\n",
    "import matplotlib\n",
    "import collections\n",
    "import numpy as np"
   ]
  },
  {
   "cell_type": "code",
   "execution_count": 3,
   "metadata": {},
   "outputs": [],
   "source": [
    "#import data files\n",
    "f1 = pandas.read_csv(\"/Users/PC/Dropbox/cai/btype_cco/crg_data/quick_run_mdlip/clustering/PLS/allexcludepls/crg_detail_ba3_clustering_PLS_allexcludepls.csv\")\n",
    "f2 = pandas.read_csv(r'/Users/PC/Dropbox/cai/btype_cco/crg_data/quick_run_mdlip/free_no_water/allexcludepls/crg_detail_ba3_allexcludepls.csv')"
   ]
  },
  {
   "cell_type": "code",
   "execution_count": 8,
   "metadata": {},
   "outputs": [
    {
     "name": "stdout",
     "output_type": "stream",
     "text": [
      "True\n",
      "(144, 142)\n"
     ]
    }
   ],
   "source": [
    "#print(f1.loc[:,'RA0010':'FA3K9303'])\n",
    "if f1.loc[:, 'RA0010':'FA3K9303'].equals(f1.iloc[:,1:117]):\n",
    "    print('True')\n",
    "print(f2.shape)"
   ]
  },
  {
   "cell_type": "code",
   "execution_count": 9,
   "metadata": {
    "collapsed": true
   },
   "outputs": [],
   "source": [
    "#calculate sum of charges at PLS for each substate and each structures\n",
    "f1['sum_pls']=f1.loc[:,'YA0065':'RA0450'].sum(axis=1)\n",
    "f2['sum_pls']=f2.loc[:,'YA0065':'RA0450'].sum(axis=1)"
   ]
  },
  {
   "cell_type": "code",
   "execution_count": 10,
   "metadata": {
    "collapsed": true
   },
   "outputs": [],
   "source": [
    "#calculate sum of charges at allexcludePLS for each substate and each structures\n",
    "f1['sum_allexcludepls']=f1.loc[:,'RA0010':'FA3K9303'].sum(axis=1)\n",
    "f2['sum_allexcludepls']=f2.loc[:,'RA0010':'FA3K9303'].sum(axis=1)"
   ]
  },
  {
   "cell_type": "code",
   "execution_count": 11,
   "metadata": {
    "collapsed": true
   },
   "outputs": [],
   "source": [
    "#reshape the sum_pls, make 12 data one sturctue\n",
    "n1=f1['sum_pls'].size\n",
    "n2=f2['sum_pls'].size\n",
    "d1_sum_pls=f1['sum_pls'].values.reshape([n1//12,12])\n",
    "d2_sum_pls=f2['sum_pls'].values.reshape([n2//12,12])"
   ]
  },
  {
   "cell_type": "code",
   "execution_count": 12,
   "metadata": {
    "collapsed": true
   },
   "outputs": [],
   "source": [
    "#reshape the sum_allexcluedpls, make 12 data one sturctue\n",
    "n11=f1['sum_allexcludepls'].size\n",
    "n22=f2['sum_allexcludepls'].size\n",
    "d1_sum_allexcludepls=f1['sum_allexcludepls'].values.reshape([n11//12,12])\n",
    "d2_sum_allexcludepls=f2['sum_allexcludepls'].values.reshape([n22//12,12])"
   ]
  },
  {
   "cell_type": "code",
   "execution_count": 13,
   "metadata": {},
   "outputs": [
    {
     "name": "stdout",
     "output_type": "stream",
     "text": [
      "{'p2_359_frame': 'purple'}\n",
      "{'p2_359_frame': [0, 61]}\n"
     ]
    }
   ],
   "source": [
    "#categorize each strucs as [xry: bule, p1/dddro : orange, p2/pddro : red, p3/ppdro: green, p4/dpdro: cyan ]\n",
    "\n",
    "selected_strucs=['p2_359_frame']\n",
    "selected_strucs_pointer={}\n",
    "\n",
    "\n",
    "states=[f1['state_snap'], f2['state_snap']]\n",
    "\n",
    "color_map={\"p1_\": \"orange\", \"dddro\": \"orange\", \"p2_\": \"purple\", \"pddro\": \"purple\", \"p3_\": \"green\", \"ppdro\": \"green\",\\\n",
    "           \"p4_\": \"cyan\",\"dpdro\": \"cyan\", \"d372p_\":\"yellow\", \"d372ph376p\": \"red\"}\n",
    "colors={}\n",
    "for i in range(len(states)):\n",
    "    for j in range(0,len(states[i]), 12):\n",
    "        struc=states[i][j][:-3]\n",
    "        if struc not in selected_strucs: continue\n",
    "        selected_strucs_pointer[struc]=[i,j//12]\n",
    "        #print(struc)\n",
    "        for key, value in color_map.items(): \n",
    "            if key in states[i][j]:\n",
    "                colors[struc]=value\n",
    "                break\n",
    "        if all(key not in states[i][j] for key in color_map):\n",
    "            colors[struc]=\"blue\"\n",
    "\n",
    "print(colors)\n",
    "print(selected_strucs_pointer)\n",
    "\n"
   ]
  },
  {
   "cell_type": "code",
   "execution_count": 14,
   "metadata": {
    "collapsed": true
   },
   "outputs": [],
   "source": [
    "# sum_pls and sum_allexcludepls data for selected_strucs\n",
    "data_sum_pls=[d1_sum_pls,d2_sum_pls]\n",
    "data_sum_allexcludepls =[d1_sum_allexcludepls, d2_sum_allexcludepls]\n",
    "\n",
    "def selecte_strucs_data(d1,d2, selected_strucs, selected_strucs_pointer):\n",
    "    data=[d1,d2]\n",
    "    res={}\n",
    "    for struc in selected_strucs:\n",
    "        i, j =selected_strucs_pointer[struc][0],selected_strucs_pointer[struc][1]\n",
    "        #print(data[selected_strucs_pointer[struc][0]][selected_strucs_pointer[struc][1]])\n",
    "        res[struc]=data[i][j]\n",
    "    return res\n",
    "\n",
    "selected_sum_pls=selecte_strucs_data(d1_sum_pls, d2_sum_pls, selected_strucs, selected_strucs_pointer)\n",
    "selected_sum_allexcludepls=selecte_strucs_data(d1_sum_allexcludepls,d2_sum_allexcludepls, selected_strucs, selected_strucs_pointer)"
   ]
  },
  {
   "cell_type": "code",
   "execution_count": 15,
   "metadata": {
    "collapsed": true
   },
   "outputs": [],
   "source": [
    "# get impose charge\n",
    "impose_charge=[-1,-1,0,-1,-1,0,-1, -1,0,-1,-1,0]"
   ]
  },
  {
   "cell_type": "code",
   "execution_count": null,
   "metadata": {
    "collapsed": true
   },
   "outputs": [],
   "source": []
  },
  {
   "cell_type": "code",
   "execution_count": 16,
   "metadata": {},
   "outputs": [
    {
     "name": "stdout",
     "output_type": "stream",
     "text": [
      "[[-2.35 -2.15 -3.   -2.97 -2.2  -2.95 -2.69 -2.   -2.87 -2.48 -2.   -2.82]]\n"
     ]
    }
   ],
   "source": [
    "#read ionize Y244, ionize Y248, ionize Y244_Y248 data\n",
    "#import data files\n",
    "f_Y244 = pandas.read_csv(\"/Users/PC/Dropbox/cai/btype_cco/crg_data/quick_run_mdlip/ionize_Y244_Y248/crg_detail_ba3_Y244.csv\")\n",
    "f_Y248 = pandas.read_csv(r'/Users/PC/Dropbox/cai/btype_cco/crg_data/quick_run_mdlip/ionize_Y244_Y248/crg_detail_ba3_Y248.csv')\n",
    "f_Y244_Y248=pandas.read_csv(r'/Users/PC/Dropbox/cai/btype_cco/crg_data/quick_run_mdlip/ionize_Y244_Y248/crg_detail_ba3_Y244_Y248.csv')\n",
    "\n",
    "#calculate sum of charges at PLS for each substate and each structures\n",
    "f_Y244['sum_pls']=f_Y244.loc[:,'YA0065':'RA0450'].sum(axis=1)\n",
    "f_Y248['sum_pls']=f_Y248.loc[:,'YA0065':'RA0450'].sum(axis=1)\n",
    "f_Y244_Y248['sum_pls']=f_Y244_Y248.loc[:,'YA0065':'RA0450'].sum(axis=1)\n",
    "\n",
    "#calculate sum of charges at allexcludePLS for each substate and each structures\n",
    "f_Y244['sum_allexcludepls']=f_Y244.loc[:,'RA0010':'FA3K9303'].sum(axis=1)\n",
    "f_Y248['sum_allexcludepls']=f_Y248.loc[:,'RA0010':'FA3K9303'].sum(axis=1)\n",
    "f_Y244_Y248['sum_allexcludepls']=f_Y244_Y248.loc[:,'RA0010':'FA3K9303'].sum(axis=1)\n",
    "\n",
    "#reshape the sum_pls, make 12 data one sturctue\n",
    "n1=f_Y244['sum_pls'].size\n",
    "n2=f_Y248['sum_pls'].size\n",
    "n3=f_Y244_Y248['sum_pls'].size\n",
    "d_Y244_sum_pls=f_Y244['sum_pls'].values.reshape([n1//12,12])\n",
    "d_Y248_sum_pls=f_Y248['sum_pls'].values.reshape([n2//12,12])\n",
    "d_Y244_Y248_sum_pls=f_Y244_Y248['sum_pls'].values.reshape([n3//12,12])\n",
    "\n",
    "#reshape the sum_allexcluedpls, make 12 data one sturctue\n",
    "n11=f_Y244['sum_allexcludepls'].size\n",
    "n22=f_Y248['sum_allexcludepls'].size\n",
    "n33=f_Y244_Y248['sum_allexcludepls'].size\n",
    "d_Y244_sum_allexcludepls=f_Y244['sum_allexcludepls'].values.reshape([n11//12,12])\n",
    "d_Y248_sum_allexcludepls=f_Y248['sum_allexcludepls'].values.reshape([n22//12,12])\n",
    "d_Y244_Y248_sum_allexcludepls=f_Y244_Y248['sum_allexcludepls'].values.reshape([n33//12,12])\n",
    "\n",
    "def decrease_base_list(base_line: float, data):\n",
    "    res=[]\n",
    "    for struc in data:\n",
    "        new_list=[x+base_line for x in struc]\n",
    "        res.append(new_list)\n",
    "    return res\n",
    "\n",
    "d_Y244_sum_allexcludepls_scale=decrease_base_list(-10, d_Y244_sum_allexcludepls)\n",
    "d_Y248_sum_allexcludepls_scale=decrease_base_list(-10, d_Y248_sum_allexcludepls)\n",
    "d_Y244_Y248_sum_allexcludepls_scale=decrease_base_list(-10, d_Y244_Y248_sum_allexcludepls)\n",
    "print(d_Y244_sum_pls)\n",
    "\n",
    "\n"
   ]
  },
  {
   "cell_type": "code",
   "execution_count": null,
   "metadata": {
    "collapsed": true
   },
   "outputs": [],
   "source": []
  },
  {
   "cell_type": "code",
   "execution_count": 20,
   "metadata": {},
   "outputs": [
    {
     "data": {
      "image/png": "[encoded data removed]",
      "text/plain": [
       "<matplotlib.figure.Figure at 0x17f0a0d8470>"
      ]
     },
     "metadata": {},
     "output_type": "display_data"
    }
   ],
   "source": [
    "#plot the pls crg set\n",
    "#categorize each strucs as [xry: bule, p1/dddro : orange, p2/pddro : red, p3/ppdro: green, p4/dpdro: cyan ]\n",
    "\n",
    "def decrease_base(base_line: float, data:dict):\n",
    "    res={}\n",
    "    for key, value in data.items():\n",
    "        new_list=[x+base_line for x in value]\n",
    "        res[key]=new_list\n",
    "    return res\n",
    "\n",
    "selected_sum_allexcludepls_scale=decrease_base(-10, selected_sum_allexcludepls)\n",
    "#print(selected_sum_allexcludepls_scale)\n",
    "\n",
    "\n",
    "outputpathway=\"/Users/PC/Dropbox/cai/btype_cco/crg_data/quick_run_mdlip\"\n",
    "#marker= ['^','o','v','X','s','*','<']\n",
    "#x_label=['r5','f1','f3','f5','o1','o3','o5','e1','e3','e5','r1', 'r3']\n",
    "x_label=['R+e','Fe','Fp','F+e','Oe','Op','O+e','Ee','Ep','E+e','Re', 'Rp']\n",
    "\n",
    "plt.figure()\n",
    "#plt.figure(figsize=(15, 5))\n",
    "plt.xticks(list(range(12)),x_label)\n",
    "\n",
    "for struc in selected_strucs:\n",
    "    #if struc != 'p2_25_frame': continue\n",
    "    plt.plot(np.array(selected_sum_pls[struc]) -1, label='P3*'+'_pls', alpha=1, color=colors[struc], marker='x')\n",
    "    #plt.plot(selected_sum_allexcludepls_scale[struc], label=struc+'excludepls', alpha=1, color=colors[struc],marker='o')\n",
    "\n",
    "plt.plot(impose_charge, label='imposed_charge', alpha=1, color='k', marker='o', markersize=10, markerfacecolor='none')\n",
    "\n",
    "plt.plot(np.array(d_Y244_sum_pls[0])-1, label='ionized_Y244_'+'pls', alpha=1, marker='x')\n",
    "plt.plot(np.array(d_Y248_sum_pls[0])-1, label='ionized_Y248_'+'pls', alpha=1,  marker='x')\n",
    "plt.plot(np.array(d_Y244_Y248_sum_pls[0])-1, label='ionized_Y244_Y248_'+'pls', alpha=1, marker='x')\n",
    "\n",
    "#plt.plot(d_Y244_sum_allexcludepls_scale[0], label='ionize_Y244_'+'excludepls', alpha=1, marker='o')\n",
    "#plt.plot(d_Y248_sum_allexcludepls_scale[0], label='ionize_Y248_'+'excludepls', alpha=1,  marker='o')\n",
    "#plt.plot(d_Y244_Y248_sum_allexcludepls_scale[0], label='ionize_Y244_Y248_'+'excludepls', alpha=1, marker='o')\n",
    "\n",
    "\n",
    "\n",
    "#plt.legend(loc='center right')\n",
    "plt.xlabel('substate')\n",
    "plt.ylabel('charge')\n",
    "plt.savefig(outputpathway+'/'+'All_Crg_State_ba3_p2_359_frame_ba3_Y244_Y2482.png', dpi=300)\n",
    "plt.show()\n",
    "\n",
    "#plt.clf()\n",
    "\n",
    "#categorize each strucs as [xry: bule, p1/dddro : orange, p2/pddro : red, p3/ppdro: green, p4/dpdro: cyan ]"
   ]
  },
  {
   "cell_type": "code",
   "execution_count": null,
   "metadata": {
    "collapsed": true
   },
   "outputs": [],
   "source": []
  }
 ],
 "metadata": {
  "kernelspec": {
   "display_name": "Python 3",
   "language": "python",
   "name": "python3"
  },
  "language_info": {
   "codemirror_mode": {
    "name": "ipython",
    "version": 3
   },
   "file_extension": ".py",
   "mimetype": "text/x-python",
   "name": "python",
   "nbconvert_exporter": "python",
   "pygments_lexer": "ipython3",
   "version": "3.6.3"
  }
 },
 "nbformat": 4,
 "nbformat_minor": 2
}
