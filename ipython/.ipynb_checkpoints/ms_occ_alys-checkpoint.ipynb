{
 "cells": [
  {
   "cell_type": "code",
   "execution_count": 3,
   "metadata": {
    "collapsed": false
   },
   "outputs": [],
   "source": [
    "import csv\n",
    "import pandas\n",
    "import matplotlib\n",
    "%matplotlib inline\n",
    "import matplotlib.pyplot as plt\n",
    "import collections\n",
    "import re\n",
    "from pathlib import Path, PureWindowsPath\n",
    "\n"
   ]
  },
  {
   "cell_type": "code",
   "execution_count": 86,
   "metadata": {
    "collapsed": true
   },
   "outputs": [],
   "source": [
    "def IntegralIncrease1(nums: list) ->float:\n",
    "    #method 1:\n",
    "    #return the sum of all local max-local min\n",
    "    #start from beginning point: r5 substate\n",
    "    \n",
    "    loc_min, loc_max=nums[0], nums[0]\n",
    "    res=0\n",
    "    for i in range(1, len(nums)):\n",
    "        if nums[i] > nums[i-1]:\n",
    "            loc_max = nums[i]\n",
    "        elif nums[i] < nums[i-1]:\n",
    "            res += loc_max - loc_min\n",
    "            loc_min=nums[i]\n",
    "            loc_max=nums[i]\n",
    "    res += loc_max-loc_min\n",
    "    return res\n",
    "\n",
    "def IntegralIncrease2(nums: list)->float:\n",
    "    #method2:\n",
    "    #return the sum of all local max-local min\n",
    "    #start from second last one point: r1 substate\n",
    "    \n",
    "    loc_min, loc_max=nums[-2], nums[-2]\n",
    "    res=0\n",
    "    for i in range(-1, len(nums)-1):\n",
    "        if nums[i] > nums[i-1]:\n",
    "            loc_max = nums[i]\n",
    "        elif nums[i] < nums[i-1]:\n",
    "            res += loc_max - loc_min\n",
    "            loc_min=nums[i]\n",
    "            loc_max=nums[i]\n",
    "    \n",
    "    res += loc_max-loc_min\n",
    "    return res\n",
    "\n",
    "\n",
    "\n",
    "def crgstringtolist(crg_s: str)->list:\n",
    "    #fuction to read crg_seq from string into crg set\n",
    "    #return a list of charges\n",
    "    n=len(crg_s)\n",
    "    i=0\n",
    "    res=[]\n",
    "    while i < n:\n",
    "        if crg_s[i]=='1':\n",
    "            res.append(1)\n",
    "            i +=1\n",
    "        elif crg_s[i]=='0':\n",
    "            res.append(0)\n",
    "            i +=1\n",
    "        else:\n",
    "            res.append(int(crg_s[i:i+2]))\n",
    "            i +=2\n",
    "    return res\n",
    "\n",
    "def readMsE2df(dicts: dict, substate: str): \n",
    "    #read all_ms_E format file, and output structure and energy informations\n",
    "    #return a dataframe\n",
    "    substate=str(substate)\n",
    "    df_e1=[]\n",
    "    columns_e1=['state_snap', 'E(-3)_min_'+substate, 'E(-4)_min_'+substate, 'ms(-3)_minE_'+substate, 'ms(-4)_minE_'+substate,\\\n",
    "                'E_self(-3)_'+substate,'E_self(-4)_'+substate, 'E_pw(-3)_'+substate,'E_pw(-4)_'+substate,\\\n",
    "                'E_mfe(-3)_'+substate,'E_mfe(-4)_'+substate,\\\n",
    "                r'$\\bigtriangleup$E_'+substate,\\\n",
    "                r'$\\bigtriangleup$E_self_'+substate,r'$\\bigtriangleup$E_pw_'+substate, r'$\\bigtriangleup$E_mfe_'+substate]\n",
    "\n",
    "    ##read data into df_e1\n",
    "    for struc, dataframe in dicts.items():\n",
    "        tmp=dataframe.iloc[:7]\n",
    "        data=[struc]\n",
    "        data.append(tmp['Min_E(Kcal)'][2])\n",
    "        data.append(tmp['Min_E(Kcal)'][1])\n",
    "        data.append(crgstringtolist(tmp['Crg_seq'][2]))\n",
    "        data.append(crgstringtolist(tmp['Crg_seq'][1]))\n",
    "        data.extend([tmp['E_self(Kcal)'][2],tmp['E_self(Kcal)'][1], tmp['E_pw(Kcal)'][2],tmp['E_pw(Kcal)'][1],\\\n",
    "                     tmp['E_mfe(Kcal)'][2],tmp['E_mfe(Kcal)'][1]])\n",
    "        data.append(tmp['Min_E(Kcal)'][1]-tmp['Min_E(Kcal)'][2])\n",
    "        data.append(tmp['E_self(Kcal)'][1]-tmp['E_self(Kcal)'][2])\n",
    "        data.append(tmp['E_pw(Kcal)'][1]-tmp['E_pw(Kcal)'][2])\n",
    "        data.append((tmp['E_mfe(Kcal)'][1]-tmp['E_mfe(Kcal)'][2])*2)\n",
    "        df_e1.append(data)\n",
    "    \n",
    "    return pandas.DataFrame(df_e1, columns = columns_e1)    \n",
    "\n",
    "def readMsOcc2df(dicts: dict, substate: str): \n",
    "    #read ms_occ format file, and output structure and energy informations\n",
    "    #return a dataframe\n",
    "    substate=str(substate)\n",
    "    df_e1=[]\n",
    "    columns_e1=['state_snap', 'Tot_crg', 'E(Kcal)', 'Occ',\\\n",
    "                'ms_str','ms', 'Conf_Names']\n",
    "\n",
    "    \n",
    "    ##read data into df_e1\n",
    "    for struc, dataframe in dicts.items():\n",
    "        for i in range(dataframe.shape[0]):\n",
    "            data=[struc]\n",
    "            data.append(dataframe.iloc[i]['Tot_crg'])\n",
    "            data.append(dataframe.iloc[i]['E(Kcal)'])\n",
    "            data.append(dataframe.iloc[i]['Occ'])\n",
    "            data.append(dataframe.iloc[i]['Crg_seq'])\n",
    "            data.append(crgstringtolist(dataframe.iloc[i]['Crg_seq']))\n",
    "            data.append(dataframe.iloc[i]['Conf_Names'])\n",
    "            \n",
    "            df_e1.append(data)\n",
    "    \n",
    "    return pandas.DataFrame(df_e1, columns = columns_e1)   \n",
    "\n",
    "\n",
    "def color_struc(s, color_map, column):\n",
    "    '''\n",
    "    color each row by column value based on colormap .\n",
    "    '''\n",
    "    #copy df to new - original data are not changed\n",
    "    df = s.copy()\n",
    "    #set by condition\n",
    "    df.loc[:,:] = 'background-color: blue '\n",
    "    for key in color_map:\n",
    "        \n",
    "        mask = s[column] == key\n",
    "        #print(mask)\n",
    "        df.loc[mask, :] = 'background-color: {}'.format(color_map.get(key))\n",
    "    #print(df)\n",
    "    return df    \n",
    "\n",
    "\n",
    "def readClusteringFile(file, dataframe):\n",
    "    #read clustering information from filepath and append the information into dataframe\n",
    "    \n",
    "    columns=['traj/xray', 'time_point','cluster_size']\n",
    "    with open(file, 'r') as f:\n",
    "        next(f)\n",
    "        data=[]\n",
    "        for line in f:\n",
    "            line=line.strip()\n",
    "            if line:\n",
    "                line= re.split(':|,|\\(|\\)' , line)\n",
    "                \n",
    "                if len(line)==1: continue\n",
    "                if len(line)==2:  # read the traj/xry information\n",
    "                    struc=line[0]\n",
    "                    continue\n",
    "                time_point=int(line[4])\n",
    "                cluster_size=int(line[2])\n",
    "                data.append([struc, str(time_point), cluster_size])\n",
    "    \n",
    "    df=pandas.DataFrame(data, columns = columns)\n",
    "    #print(df)\n",
    "    return pandas.merge(dataframe, df, how='outer', on =['traj/xray','time_point'])\n",
    "\n",
    "def colormaps(color_map, column):\n",
    "    '''\n",
    "    color each row by column value based on colormap .\n",
    "    '''\n",
    "    n=len(column)\n",
    "    ans=[''] * n\n",
    "    for i, x in enumerate(column):\n",
    "        ans[i]=color_map.get(x,'blue')\n",
    "        #print(x, ans[i])\n",
    "    return ans\n",
    "    \n",
    "\n",
    "        "
   ]
  },
  {
   "cell_type": "markdown",
   "metadata": {},
   "source": [
    "# Import proton binding energy into dataframe: df_sum"
   ]
  },
  {
   "cell_type": "code",
   "execution_count": 87,
   "metadata": {
    "collapsed": false
   },
   "outputs": [],
   "source": [
    "#import crystal and md at e1/f3 substate data files\n",
    "filepath_cry_e1='/Users/caixiuhong/Dropbox/cai/btype_cco/crg_data/quick_run_mdlip/free_no_water/ms_occ_E1.xlsx'\n",
    "filepath_md_e1='/Users/caixiuhong/Dropbox/cai/btype_cco/crg_data/quick_run_mdlip/clustering/PLS/ms_occ_E1.xlsx'\n",
    "#f3 data files pathway\n",
    "#filepath_cry_f3='/Users/caixiuhong/Dropbox/cai/btype_cco/crg_data/quick_run_mdlip/free_no_water/ms_occ_f3.xlsx'\n",
    "#filepath_md_f3='/Users/caixiuhong/Dropbox/cai/btype_cco/crg_data/quick_run_mdlip/clustering/PLS/ms_occ_f3.xlsx'\n",
    "\n",
    "#crystal structure name\n",
    "cry_name= [\"1ehk\",\"1xme\",\"4gp4\",\"4gp5\",\"3eh3\",\"3eh5\",\"3s3b\",\"3s3d\",\"3eh4\",\"3s3a\",\"3s3c\",\"3s8f\"]\n",
    "\n",
    "\n",
    "file_cry_e1 = pandas.read_excel(filepath_cry_e1, sheetname=None, index_col=1)\n",
    "file_md_e1 = pandas.read_excel(filepath_md_e1, sheetname=None, index_col=1)\n",
    "#file_cry_f3 = pandas.read_excel(filepath_cry_f3, sheetname=cry_name, index_col=1)\n",
    "#file_md_f3 = pandas.read_excel(filepath_md_f3, sheetname=None, index_col=1)\n",
    "\n",
    "\n",
    "file_cry_e1.update(file_md_e1)\n",
    "file_e1=file_cry_e1   # store data for e1 substate\n",
    "\n",
    "#file_cry_f3.update(file_md_f3)\n",
    "#file_f3= file_cry_f3   # store data for f3 substate\n",
    "\n",
    "\n",
    "# read min_e, e_self, e_pw, e_mfe\n",
    "df_e1=readMsOcc2df(file_e1,'e1')\n",
    "#df_f3=readMsE2df(file_f3,'f3')\n"
   ]
  },
  {
   "cell_type": "code",
   "execution_count": 96,
   "metadata": {
    "collapsed": false
   },
   "outputs": [],
   "source": [
    "snap_ms=collections.defaultdict(list)\n",
    "snap_ms_str=collections.defaultdict(list)\n",
    "\n",
    "tot_ms=[]\n",
    "tot_ms_str=[]\n",
    "for index, row in df_e1.iterrows():\n",
    "    if row['ms_str'] not in tot_ms_str:\n",
    "        tot_ms_str.append(row['ms_str'])\n",
    "        tot_ms.append(row['ms'])\n",
    "\n",
    "    \n",
    "    \n",
    "    #print(row['ms_str'],row['state_snap'])\n",
    "    if row['state_snap'] not in snap_ms_str:\n",
    "        snap_ms_str[row['state_snap']].append(row['ms_str'])\n",
    "        snap_ms[row['state_snap']].append(row['ms'])\n",
    "        \n",
    "    else:\n",
    "        if row['ms_str'] not in snap_ms_str[row['state_snap']]:\n",
    "            snap_ms_str[row['state_snap']].append(row['ms_str'])\n",
    "            snap_ms[row['state_snap']].append(row['ms'])"
   ]
  },
  {
   "cell_type": "code",
   "execution_count": 97,
   "metadata": {
    "collapsed": false
   },
   "outputs": [
    {
     "data": {
      "text/plain": [
       "[[-1, 0, 1, -1, -1, -1],\n",
       " [-1, 0, 0, 0, -1, -1],\n",
       " [-1, 0, 0, -1, 0, -1],\n",
       " [-1, 0, 1, -1, -1, 0],\n",
       " [-1, 0, 0, -1, -1, -1],\n",
       " [-1, -1, 0, -1, 0, -1],\n",
       " [-1, -1, 1, -1, 0, -1],\n",
       " [-1, -1, 0, 0, 0, -1],\n",
       " [-1, -1, 0, -1, -1, -1],\n",
       " [-1, -1, 0, 0, -1, -1],\n",
       " [-1, 0, 0, -1, -1, 0],\n",
       " [-1, -1, 0, -1, 0, 0],\n",
       " [-1, -1, 1, -1, -1, -1],\n",
       " [-1, -1, 0, -1, -1, 0]]"
      ]
     },
     "execution_count": 97,
     "metadata": {},
     "output_type": "execute_result"
    }
   ],
   "source": [
    "tot_ms"
   ]
  },
  {
   "cell_type": "markdown",
   "metadata": {},
   "source": [
    "# group the data by traj/xray and summarize the information"
   ]
  },
  {
   "cell_type": "code",
   "execution_count": 13,
   "metadata": {
    "collapsed": true
   },
   "outputs": [],
   "source": [
    "groups=df_res.groupby('traj/xray')[[r'$\\int$dsum_pls6_m2','sum_pls6_avecrg',r'$\\bigtriangleup$E_e1',r'$\\bigtriangleup$E_f3']]\\\n",
    ".agg(['mean','std','size']).reset_index()"
   ]
  },
  {
   "cell_type": "markdown",
   "metadata": {},
   "source": [
    "# style the dataframe and save the dataframe to excel file"
   ]
  },
  {
   "cell_type": "code",
   "execution_count": 14,
   "metadata": {
    "collapsed": true
   },
   "outputs": [],
   "source": [
    "def color_struc(s, color_map, column):\n",
    "    '''\n",
    "    color each row by column value based on colormap .\n",
    "    '''\n",
    "    #copy df to new - original data are not changed\n",
    "    df = s.copy()\n",
    "    #set by condition\n",
    "    df.loc[:,:] = 'background-color: blue '\n",
    "    for key in color_map:\n",
    "        \n",
    "        mask = s[column] == key\n",
    "        #print(mask)\n",
    "        df.loc[mask, :] = 'background-color: {}'.format(color_map.get(key))\n",
    "    #print(df)\n",
    "    return df    \n",
    "\n",
    "#colormap of each structure\n",
    "color_maps={\"p1\": \"orange\", \"dddro\": \"orange\", \"p2\": \"purple\", \"pddro\": \"purple\", \"p3\": \"green\", \"ppdro\": \"green\",\\\n",
    "           \"p4\": \"cyan\",\"dpdro\": \"cyan\", \"d372p\":\"yellow\", \"d372ph376p\": \"red\"}\n",
    "\n",
    "df_res_styler=df_res.round(2).style.apply(color_struc, color_map=color_maps, column='traj/xray', axis=None)"
   ]
  },
  {
   "cell_type": "code",
   "execution_count": null,
   "metadata": {
    "collapsed": true
   },
   "outputs": [],
   "source": []
  }
 ],
 "metadata": {
  "kernelspec": {
   "display_name": "Python 3",
   "language": "python",
   "name": "python3"
  },
  "language_info": {
   "codemirror_mode": {
    "name": "ipython",
    "version": 3
   },
   "file_extension": ".py",
   "mimetype": "text/x-python",
   "name": "python",
   "nbconvert_exporter": "python",
   "pygments_lexer": "ipython3",
   "version": "3.6.0"
  }
 },
 "nbformat": 4,
 "nbformat_minor": 2
}
