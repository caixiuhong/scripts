{
 "cells": [
  {
   "cell_type": "code",
   "execution_count": 9,
   "metadata": {
    "collapsed": true
   },
   "outputs": [],
   "source": [
    "import mdtraj as md\n",
    "import numpy as np\n",
    "t1 = md.load('C:\\\\Users\\\\PC\\\\Dropbox\\\\cai\\\\btype_cco\\\\snapshot\\\\inputdir\\\\PRDa3H\\\\ppdoo_PRDa3_eq.gro')"
   ]
  },
  {
   "cell_type": "code",
   "execution_count": 20,
   "metadata": {},
   "outputs": [
    {
     "name": "stdout",
     "output_type": "stream",
     "text": [
      "THR315-OG1\n",
      "TYR248-OH\n"
     ]
    }
   ],
   "source": [
    "thr_315=[atom for atom in t1.topology.atoms if ((atom.residue.name == 'THR') and (atom.residue.index == 308))]\n",
    "#print(thr_315)\n",
    "thr_315_o=thr_315[6]\n",
    "thr_315_h=thr_315[7]\n",
    "print(thr_315_o)\n",
    "\n",
    "tyr_248=[atom for atom in t1.topology.atoms if ((atom.residue.name == 'TYR') and (atom.residue.index == 241))]\n",
    "tyr_248_o=tyr_248[13]\n",
    "tyr_248_h=tyr_248[14]\n",
    "print(tyr_248_o)"
   ]
  },
  {
   "cell_type": "code",
   "execution_count": 21,
   "metadata": {},
   "outputs": [],
   "source": [
    "tyr_248_thr_315_pair= np.asarray([[tyr_248_o.index,thr_315_o.index]])\n",
    "\n",
    "tyr_248_thr_315_dist1=md.compute_distances(t1, tyr_248_thr_315_pair, periodic=False)"
   ]
  },
  {
   "cell_type": "code",
   "execution_count": 22,
   "metadata": {},
   "outputs": [
    {
     "name": "stdout",
     "output_type": "stream",
     "text": [
      "[[ 0.48758715]]\n"
     ]
    }
   ],
   "source": [
    "print(tyr_248_thr_315_dist1)"
   ]
  },
  {
   "cell_type": "code",
   "execution_count": null,
   "metadata": {
    "collapsed": true
   },
   "outputs": [],
   "source": []
  }
 ],
 "metadata": {
  "kernelspec": {
   "display_name": "Python 3",
   "language": "python",
   "name": "python3"
  },
  "language_info": {
   "codemirror_mode": {
    "name": "ipython",
    "version": 3
   },
   "file_extension": ".py",
   "mimetype": "text/x-python",
   "name": "python",
   "nbconvert_exporter": "python",
   "pygments_lexer": "ipython3",
   "version": "3.6.3"
  }
 },
 "nbformat": 4,
 "nbformat_minor": 2
}
