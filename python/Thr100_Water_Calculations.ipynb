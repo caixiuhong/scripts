{
 "cells": [
  {
   "cell_type": "code",
   "execution_count": null,
   "metadata": {
    "collapsed": false
   },
   "outputs": [],
   "source": [
    "%matplotlib inline\n",
    "import sys\n",
    "import os\n",
    "import numpy as np\n",
    "import pandas as pd\n",
    "import matplotlib as mpl\n",
    "from matplotlib.ticker import LinearLocator, FormatStrFormatter\n",
    "from matplotlib.backends.backend_pdf import PdfPages\n",
    "import matplotlib.pyplot as plt\n",
    "import matplotlib.ticker as ticker\n",
    "from IPython.display import Image\n",
    "from scipy import stats\n",
    "mpl.use('Agg')\n",
    "#import seaborn as sns\n",
    "#sns.set_style(\"white\")\n",
    "fontsize = 12\n",
    "font = {'family' : 'sans-serif',\n",
    "        'weight' : 'normal',\n",
    "        'size'   : fontsize}\n",
    "plt.rc('font', **font)\n",
    "import mdtraj as md\n"
   ]
  },
  {
   "cell_type": "markdown",
   "metadata": {
    "collapsed": true
   },
   "source": [
    "### Investigating water around Thr100\n",
    "\n"
   ]
  },
  {
   "cell_type": "code",
   "execution_count": 2,
   "metadata": {
    "collapsed": false
   },
   "outputs": [],
   "source": [
    "F1_snapshot_names = [\"f100\", \"f103\", \"f107\", \"f110\", \"f114\", \"f120\", \"f126\", \"f132\", \"f138\", \"f144\", \"f150\"]\n",
    "F2_snapshot_names = [\"f200\", \"f203\", \"f207\", \"f210\", \"f214\", \"f220\", \"f226\", \"f232\", \"f238\", \"f244\", \"f250\"]\n",
    "F4_snapshot_names = [\"f400\", \"f403\", \"f407\", \"f410\", \"f414\", \"f420\", \"f426\", \"f432\", \"f438\", \"f444\", \"f450\"]\n",
    "f1_pdb_files = [\"../raw_data/pdb_files/\" + f for f in os.listdir(\"../raw_data/pdb_files\") if f.startswith(\"f1\")]# and if f.endswith(\".pdb\")]\n",
    "f2_pdb_files = [\"../raw_data/pdb_files/\" + f for f in os.listdir(\"../raw_data/pdb_files\") if f.startswith(\"f2\")]# and if f.endswith(\".pdb\")]\n",
    "f4_pdb_files = [\"../raw_data/pdb_files/\" + f for f in os.listdir(\"../raw_data/pdb_files\") if f.startswith(\"f4\")]# and if f.endswith(\".pdb\")]\n",
    "all_substates = [f1_pdb_files, f2_pdb_files, f4_pdb_files]\n"
   ]
  },
  {
   "cell_type": "code",
   "execution_count": 5,
   "metadata": {
    "collapsed": false
   },
   "outputs": [
    {
     "name": "stdout",
     "output_type": "stream",
     "text": [
      "F1\n",
      "Processing:  ../raw_data/pdb_files/f100_prot.pdb\n",
      "[THR100, ASN96, ASN96, TRP95]\n",
      "[array([ 7947, 10576, 13471, 14484, 14501, 14831, 18526, 24408])]\n",
      "Processing:  ../raw_data/pdb_files/f103_prot.pdb\n",
      "[THR100, ASN96, ASN96, TRP95]\n",
      "[array([ 7947, 14484, 14501, 17955, 18208, 39802, 40122])]\n",
      "Processing:  ../raw_data/pdb_files/f107_prot.pdb\n",
      "[THR100, ASN96, ASN96, TRP95]\n",
      "[array([14096, 14494, 17046, 18783, 33069])]\n",
      "Processing:  ../raw_data/pdb_files/f110_prot.pdb\n",
      "[THR100, ASN96, ASN96, TRP95]\n",
      "[array([ 9669, 10188, 12466, 13471, 44047])]\n",
      "Processing:  ../raw_data/pdb_files/f114_prot.pdb\n"
     ]
    },
    {
     "name": "stderr",
     "output_type": "stream",
     "text": [
      "/Users/kamranhaider/anaconda2/lib/python2.7/site-packages/mdtraj/formats/pdb/pdbstructure.py:435: UserWarning: WARNING: two consecutive residues with same number (ATOM    117  FE  HEA K   1      34.120  51.880  68.870  1.00  0.00              , ATOM    115  O2D HE3 K   1      41.930  60.440  74.880  1.00  0.00              )\n",
      "  warnings.warn(\"WARNING: two consecutive residues with same number (%s, %s)\" % (atom, self._current_residue.atoms[-1]))\n"
     ]
    },
    {
     "name": "stdout",
     "output_type": "stream",
     "text": [
      "[THR100, ASN96, ASN96, TRP95]\n",
      "[array([14096, 17046, 26868, 27239, 28622, 30508, 32848])]\n",
      "Processing:  ../raw_data/pdb_files/f120_prot.pdb\n"
     ]
    },
    {
     "name": "stderr",
     "output_type": "stream",
     "text": [
      "/Users/kamranhaider/anaconda2/lib/python2.7/site-packages/mdtraj/formats/pdb/pdbstructure.py:435: UserWarning: WARNING: two consecutive residues with same number (ATOM    117  FE  HEA K   1      32.830  51.100  68.880  1.00  0.00              , ATOM    115  O2D HE3 K   1      40.210  58.480  74.610  1.00  0.00              )\n",
      "  warnings.warn(\"WARNING: two consecutive residues with same number (%s, %s)\" % (atom, self._current_residue.atoms[-1]))\n"
     ]
    },
    {
     "name": "stdout",
     "output_type": "stream",
     "text": [
      "[THR100, ASN96, ASN96, TRP95]\n",
      "[array([14789, 17156, 24573, 26102, 27368, 34744, 39189, 45874])]\n",
      "Processing:  ../raw_data/pdb_files/f126_prot.pdb\n"
     ]
    },
    {
     "name": "stderr",
     "output_type": "stream",
     "text": [
      "/Users/kamranhaider/anaconda2/lib/python2.7/site-packages/mdtraj/formats/pdb/pdbstructure.py:435: UserWarning: WARNING: two consecutive residues with same number (ATOM    117  FE  HEA K   1      33.180  51.350  68.800  1.00  0.00              , ATOM    115  O2D HE3 K   1      40.520  58.170  73.870  1.00  0.00              )\n",
      "  warnings.warn(\"WARNING: two consecutive residues with same number (%s, %s)\" % (atom, self._current_residue.atoms[-1]))\n"
     ]
    },
    {
     "name": "stdout",
     "output_type": "stream",
     "text": [
      "[THR100, ASN96, ASN96, TRP95]\n",
      "[array([14362, 17156, 29090, 37965, 40730, 44378, 45185, 45874])]\n",
      "Processing:  ../raw_data/pdb_files/f132_prot.pdb\n"
     ]
    },
    {
     "name": "stderr",
     "output_type": "stream",
     "text": [
      "/Users/kamranhaider/anaconda2/lib/python2.7/site-packages/mdtraj/formats/pdb/pdbstructure.py:435: UserWarning: WARNING: two consecutive residues with same number (ATOM    117  FE  HEA K   1      32.440  50.950  68.640  1.00  0.00              , ATOM    115  O2D HE3 K   1      40.310  58.360  73.630  1.00  0.00              )\n",
      "  warnings.warn(\"WARNING: two consecutive residues with same number (%s, %s)\" % (atom, self._current_residue.atoms[-1]))\n"
     ]
    },
    {
     "name": "stdout",
     "output_type": "stream",
     "text": [
      "[THR100, ASN96, ASN96, TRP95]\n",
      "[array([14230, 14369, 18570, 19239, 19571, 35944, 37965])]\n",
      "Processing:  ../raw_data/pdb_files/f138_prot.pdb\n"
     ]
    },
    {
     "name": "stderr",
     "output_type": "stream",
     "text": [
      "/Users/kamranhaider/anaconda2/lib/python2.7/site-packages/mdtraj/formats/pdb/pdbstructure.py:435: UserWarning: WARNING: two consecutive residues with same number (ATOM    117  FE  HEA K   1      35.180  52.060  70.930  1.00  0.00              , ATOM    115  O2D HE3 K   1      42.910  59.440  75.870  1.00  0.00              )\n",
      "  warnings.warn(\"WARNING: two consecutive residues with same number (%s, %s)\" % (atom, self._current_residue.atoms[-1]))\n"
     ]
    },
    {
     "name": "stdout",
     "output_type": "stream",
     "text": [
      "[THR100, ASN96, ASN96, TRP95]\n",
      "[array([15746, 27414, 33888, 35944, 37118, 37965, 43551])]\n",
      "Processing:  ../raw_data/pdb_files/f144_prot.pdb\n"
     ]
    },
    {
     "name": "stderr",
     "output_type": "stream",
     "text": [
      "/Users/kamranhaider/anaconda2/lib/python2.7/site-packages/mdtraj/formats/pdb/pdbstructure.py:435: UserWarning: WARNING: two consecutive residues with same number (ATOM    117  FE  HEA K   1      35.870  51.890  69.380  1.00  0.00              , ATOM    115  O2D HE3 K   1      42.940  59.240  73.940  1.00  0.00              )\n",
      "  warnings.warn(\"WARNING: two consecutive residues with same number (%s, %s)\" % (atom, self._current_residue.atoms[-1]))\n"
     ]
    },
    {
     "name": "stdout",
     "output_type": "stream",
     "text": [
      "[THR100, ASN96, ASN96, TRP95]\n",
      "[array([11307, 12412, 19983, 25893, 29261, 36486, 37470, 44964])]\n",
      "Processing:  ../raw_data/pdb_files/f150_prot.pdb\n"
     ]
    },
    {
     "name": "stderr",
     "output_type": "stream",
     "text": [
      "/Users/kamranhaider/anaconda2/lib/python2.7/site-packages/mdtraj/formats/pdb/pdbstructure.py:435: UserWarning: WARNING: two consecutive residues with same number (ATOM    117  FE  HEA K   1      35.200  51.550  71.200  1.00  0.00              , ATOM    115  O2D HE3 K   1      42.620  57.930  75.630  1.00  0.00              )\n",
      "  warnings.warn(\"WARNING: two consecutive residues with same number (%s, %s)\" % (atom, self._current_residue.atoms[-1]))\n"
     ]
    },
    {
     "name": "stdout",
     "output_type": "stream",
     "text": [
      "[THR100, ASN96, ASN96, TRP95]\n",
      "[array([14491, 14497, 30971, 31016, 33974, 37470, 39189])]\n",
      "F2\n",
      "Processing:  ../raw_data/pdb_files/f200_prot.pdb\n",
      "[THR89, ASN85, ASN85, TRP84]\n",
      "[array([15510, 18793, 39456])]\n",
      "Processing:  ../raw_data/pdb_files/f203_prot.pdb\n",
      "[THR89, ASN85, ASN85, TRP84]\n",
      "[array([ 9711, 11053, 16208, 44708])]\n",
      "Processing:  ../raw_data/pdb_files/f207_prot.pdb\n",
      "[THR89, ASN85, ASN85, TRP84]\n",
      "[array([ 9711, 11365, 44197])]\n",
      "Processing:  ../raw_data/pdb_files/f210_prot.pdb\n",
      "[THR89, ASN85, ASN85, TRP84]\n",
      "[array([11177, 11365, 14497, 14610, 21189, 30550, 30592])]\n",
      "Processing:  ../raw_data/pdb_files/f214_prot.pdb\n",
      "[THR89, ASN85, ASN85, TRP84]\n",
      "[array([ 7194, 11177, 28218, 44669])]\n",
      "Processing:  ../raw_data/pdb_files/f220_prot.pdb\n",
      "[THR89, ASN85, ASN85, TRP84]\n",
      "[array([17286, 21857, 22466, 29468, 43570])]\n",
      "Processing:  ../raw_data/pdb_files/f226_prot.pdb\n",
      "[THR89, ASN85, ASN85, TRP84]\n",
      "[array([24147, 35119, 37780, 41865, 42812])]\n",
      "Processing:  ../raw_data/pdb_files/f232_prot.pdb\n",
      "[THR89, ASN85, ASN85, TRP84]\n",
      "[array([16208, 17783, 23082, 24548, 28819, 41231])]\n",
      "Processing:  ../raw_data/pdb_files/f238_prot.pdb\n",
      "[THR89, ASN85, ASN85, TRP84]\n",
      "[array([10969, 12718, 20383, 21722, 24854, 31712, 37387])]\n",
      "Processing:  ../raw_data/pdb_files/f244_prot.pdb\n",
      "[THR89, ASN85, ASN85, TRP84]\n",
      "[array([13512, 20636, 30319, 36310])]\n",
      "Processing:  ../raw_data/pdb_files/f250_prot.pdb\n",
      "[THR89, ASN85, ASN85, TRP84]\n",
      "[array([ 7947, 12466, 15746, 31755, 33140, 36788, 45069])]\n",
      "F4\n",
      "Processing:  ../raw_data/pdb_files/f400_prot.pdb\n"
     ]
    },
    {
     "name": "stderr",
     "output_type": "stream",
     "text": [
      "/Users/kamranhaider/anaconda2/lib/python2.7/site-packages/mdtraj/formats/pdb/pdbstructure.py:435: UserWarning: WARNING: two consecutive residues with same number (ATOM    117  FE  HEA K   1      44.400  42.590  65.830  1.00  0.00              , ATOM    115  O2D HE3 K   1      52.130  48.430  70.810  1.00  0.00              )\n",
      "  warnings.warn(\"WARNING: two consecutive residues with same number (%s, %s)\" % (atom, self._current_residue.atoms[-1]))\n"
     ]
    },
    {
     "name": "stdout",
     "output_type": "stream",
     "text": [
      "[THR100, ASN96, ASN96, TRP95]\n",
      "[array([ 7947, 10576, 13034, 13946, 21731, 24408, 38278])]\n",
      "Processing:  ../raw_data/pdb_files/f403_prot.pdb\n"
     ]
    },
    {
     "name": "stderr",
     "output_type": "stream",
     "text": [
      "/Users/kamranhaider/anaconda2/lib/python2.7/site-packages/mdtraj/formats/pdb/pdbstructure.py:435: UserWarning: WARNING: two consecutive residues with same number (ATOM    117  FE  HEA K   1      43.870  42.600  67.250  1.00  0.00              , ATOM    115  O2D HE3 K   1      51.430  49.250  72.880  1.00  0.00              )\n",
      "  warnings.warn(\"WARNING: two consecutive residues with same number (%s, %s)\" % (atom, self._current_residue.atoms[-1]))\n"
     ]
    },
    {
     "name": "stdout",
     "output_type": "stream",
     "text": [
      "[THR100, ASN96, ASN96, TRP95]\n",
      "[array([11516, 14498, 32525, 43329])]\n",
      "Processing:  ../raw_data/pdb_files/f407_prot.pdb\n"
     ]
    },
    {
     "name": "stderr",
     "output_type": "stream",
     "text": [
      "/Users/kamranhaider/anaconda2/lib/python2.7/site-packages/mdtraj/formats/pdb/pdbstructure.py:435: UserWarning: WARNING: two consecutive residues with same number (ATOM    117  FE  HEA K   1      34.410  50.180  72.590  1.00  0.00              , ATOM    115  O2D HE3 K   1      44.690  58.010  77.040  1.00  0.00              )\n",
      "  warnings.warn(\"WARNING: two consecutive residues with same number (%s, %s)\" % (atom, self._current_residue.atoms[-1]))\n"
     ]
    },
    {
     "name": "stdout",
     "output_type": "stream",
     "text": [
      "[THR100, ASN96, ASN96, TRP95]\n",
      "[array([ 9212, 25675, 36340, 44569, 45956])]\n",
      "Processing:  ../raw_data/pdb_files/f410_prot.pdb\n"
     ]
    },
    {
     "name": "stderr",
     "output_type": "stream",
     "text": [
      "/Users/kamranhaider/anaconda2/lib/python2.7/site-packages/mdtraj/formats/pdb/pdbstructure.py:435: UserWarning: WARNING: two consecutive residues with same number (ATOM    117  FE  HEA K   1      36.010  51.740  69.980  1.00  0.00              , ATOM    115  O2D HE3 K   1      43.390  59.060  74.310  1.00  0.00              )\n",
      "  warnings.warn(\"WARNING: two consecutive residues with same number (%s, %s)\" % (atom, self._current_residue.atoms[-1]))\n"
     ]
    },
    {
     "name": "stdout",
     "output_type": "stream",
     "text": [
      "[THR100, ASN96, ASN96, TRP95]\n",
      "[array([ 7185, 14359, 26426, 27050, 30336, 36529, 45321])]\n",
      "Processing:  ../raw_data/pdb_files/f414_prot.pdb\n"
     ]
    },
    {
     "name": "stderr",
     "output_type": "stream",
     "text": [
      "/Users/kamranhaider/anaconda2/lib/python2.7/site-packages/mdtraj/formats/pdb/pdbstructure.py:435: UserWarning: WARNING: two consecutive residues with same number (ATOM    117  FE  HEA K   1      34.280  52.270  71.210  1.00  0.00              , ATOM    115  O2D HE3 K   1      43.590  59.910  76.670  1.00  0.00              )\n",
      "  warnings.warn(\"WARNING: two consecutive residues with same number (%s, %s)\" % (atom, self._current_residue.atoms[-1]))\n"
     ]
    },
    {
     "name": "stdout",
     "output_type": "stream",
     "text": [
      "[THR100, ASN96, ASN96, TRP95]\n",
      "[array([ 6610, 21834, 27511, 28817, 29444, 32592, 45916])]\n",
      "Processing:  ../raw_data/pdb_files/f420_prot.pdb\n"
     ]
    },
    {
     "name": "stderr",
     "output_type": "stream",
     "text": [
      "/Users/kamranhaider/anaconda2/lib/python2.7/site-packages/mdtraj/formats/pdb/pdbstructure.py:435: UserWarning: WARNING: two consecutive residues with same number (ATOM    117  FE  HEA K   1      35.400  52.210  68.700  1.00  0.00              , ATOM    115  O2D HE3 K   1      43.400  59.930  74.140  1.00  0.00              )\n",
      "  warnings.warn(\"WARNING: two consecutive residues with same number (%s, %s)\" % (atom, self._current_residue.atoms[-1]))\n"
     ]
    },
    {
     "name": "stdout",
     "output_type": "stream",
     "text": [
      "[THR100, ASN96, ASN96, TRP95]\n",
      "[array([23770, 25042, 25112, 30139, 36677, 42295, 44096, 45321])]\n",
      "Processing:  ../raw_data/pdb_files/f426_prot.pdb\n"
     ]
    },
    {
     "name": "stderr",
     "output_type": "stream",
     "text": [
      "/Users/kamranhaider/anaconda2/lib/python2.7/site-packages/mdtraj/formats/pdb/pdbstructure.py:435: UserWarning: WARNING: two consecutive residues with same number (ATOM    117  FE  HEA K   1      32.480  50.840  66.350  1.00  0.00              , ATOM    115  O2D HE3 K   1      42.900  59.740  72.440  1.00  0.00              )\n",
      "  warnings.warn(\"WARNING: two consecutive residues with same number (%s, %s)\" % (atom, self._current_residue.atoms[-1]))\n"
     ]
    },
    {
     "name": "stdout",
     "output_type": "stream",
     "text": [
      "[THR100, ASN96, ASN96, TRP95]\n",
      "[array([15464, 15730, 27511, 30369, 30851, 32592])]\n",
      "Processing:  ../raw_data/pdb_files/f432_prot.pdb\n"
     ]
    },
    {
     "name": "stderr",
     "output_type": "stream",
     "text": [
      "/Users/kamranhaider/anaconda2/lib/python2.7/site-packages/mdtraj/formats/pdb/pdbstructure.py:435: UserWarning: WARNING: two consecutive residues with same number (ATOM    117  FE  HEA K   1      36.340  51.760  69.780  1.00  0.00              , ATOM    115  O2D HE3 K   1      43.710  58.280  73.840  1.00  0.00              )\n",
      "  warnings.warn(\"WARNING: two consecutive residues with same number (%s, %s)\" % (atom, self._current_residue.atoms[-1]))\n"
     ]
    },
    {
     "name": "stdout",
     "output_type": "stream",
     "text": [
      "[THR100, ASN96, ASN96, TRP95]\n",
      "[array([ 6561, 12194, 17138, 17355, 27026, 31049, 44474])]\n",
      "Processing:  ../raw_data/pdb_files/f438_prot.pdb\n"
     ]
    },
    {
     "name": "stderr",
     "output_type": "stream",
     "text": [
      "/Users/kamranhaider/anaconda2/lib/python2.7/site-packages/mdtraj/formats/pdb/pdbstructure.py:435: UserWarning: WARNING: two consecutive residues with same number (ATOM    117  FE  HEA K   1      34.400  51.690  68.950  1.00  0.00              , ATOM    115  O2D HE3 K   1      41.640  60.130  74.600  1.00  0.00              )\n",
      "  warnings.warn(\"WARNING: two consecutive residues with same number (%s, %s)\" % (atom, self._current_residue.atoms[-1]))\n"
     ]
    },
    {
     "name": "stdout",
     "output_type": "stream",
     "text": [
      "[THR100, ASN96, ASN96, TRP95]\n",
      "[array([ 6976, 12194, 12783, 27026, 32840, 40757])]\n",
      "Processing:  ../raw_data/pdb_files/f444_prot.pdb\n"
     ]
    },
    {
     "name": "stderr",
     "output_type": "stream",
     "text": [
      "/Users/kamranhaider/anaconda2/lib/python2.7/site-packages/mdtraj/formats/pdb/pdbstructure.py:435: UserWarning: WARNING: two consecutive residues with same number (ATOM    117  FE  HEA K   1      36.880  51.620  69.240  1.00  0.00              , ATOM    115  O2D HE3 K   1      43.290  60.020  74.090  1.00  0.00              )\n",
      "  warnings.warn(\"WARNING: two consecutive residues with same number (%s, %s)\" % (atom, self._current_residue.atoms[-1]))\n"
     ]
    },
    {
     "name": "stdout",
     "output_type": "stream",
     "text": [
      "[THR100, ASN96, ASN96, TRP95]\n",
      "[array([10837, 12898, 15278, 19053, 34449, 35101, 39872])]\n",
      "Processing:  ../raw_data/pdb_files/f450_prot.pdb\n"
     ]
    },
    {
     "name": "stderr",
     "output_type": "stream",
     "text": [
      "/Users/kamranhaider/anaconda2/lib/python2.7/site-packages/mdtraj/formats/pdb/pdbstructure.py:435: UserWarning: WARNING: two consecutive residues with same number (ATOM    117  FE  HEA K   1      36.620  51.650  69.740  1.00  0.00              , ATOM    115  O2D HE3 K   1      43.340  59.040  73.800  1.00  0.00              )\n",
      "  warnings.warn(\"WARNING: two consecutive residues with same number (%s, %s)\" % (atom, self._current_residue.atoms[-1]))\n"
     ]
    },
    {
     "name": "stdout",
     "output_type": "stream",
     "text": [
      "[THR100, ASN96, ASN96, TRP95]\n",
      "[array([ 9280, 24406, 30379, 36801, 37830, 38337])]\n",
      "[[8, 7, 5, 5, 7, 8, 8, 7, 7, 8, 7], [3, 4, 3, 7, 4, 5, 5, 6, 7, 4, 7], [7, 4, 5, 7, 7, 8, 6, 7, 6, 7, 6]]\n"
     ]
    }
   ],
   "source": [
    "substates = [\"F1\", \"F2\", \"F4\"]\n",
    "query_atom_ids = [[807, 777, 778, 764], [807, 777, 778, 764], [807, 777, 778, 764]]\n",
    "all_water_numbers = [[], [], []]\n",
    "for substate_index, substate in enumerate(all_substates):\n",
    "    print substates[substate_index]\n",
    "    for index, pdb in enumerate(substate):\n",
    "        print \"Processing: \", pdb\n",
    "        snapshot = md.load_pdb(pdb)    \n",
    "        q = query_atom_ids[substate_index]\n",
    "        print [snapshot.topology.atom(index).residue for index in q]\n",
    "        wat_oxygen_atom_ids = snapshot.topology.select(\"water and name O\")\n",
    "        cav_waters = md.compute_neighbors(\n",
    "                snapshot, 0.35, q,\n",
    "                haystack_indices=wat_oxygen_atom_ids)\n",
    "        print cav_waters\n",
    "        all_water_numbers[substate_index].append(cav_waters[0].shape[0])\n",
    "    \n",
    "print all_water_numbers"
   ]
  },
  {
   "cell_type": "code",
   "execution_count": 7,
   "metadata": {
    "collapsed": false
   },
   "outputs": [
    {
     "name": "stdout",
     "output_type": "stream",
     "text": [
      "Number of waters in the Glu286\n",
      "F1           F2           F4          \n",
      "8            3            7\n",
      "7            4            4\n",
      "5            3            5\n",
      "5            7            7\n",
      "7            4            7\n",
      "8            5            8\n",
      "8            5            6\n",
      "7            6            7\n",
      "7            7            6\n",
      "8            4            7\n",
      "7            7            6\n"
     ]
    }
   ],
   "source": [
    "print \"Number of waters in the Glu286\"\n",
    "print \"{0[0]:<12} {0[1]:<12} {0[2]:<12}\".format([\"F1\", \"F2\", \"F4\"])\n",
    "for i in range(11):\n",
    "    print \"{0[0]:<12d} {0[1]:<12d} {0[2]:d}\".format([all_water_numbers[0][i], all_water_numbers[1][i], all_water_numbers[2][i]])\n",
    "\n",
    "    "
   ]
  },
  {
   "cell_type": "code",
   "execution_count": null,
   "metadata": {
    "collapsed": true
   },
   "outputs": [],
   "source": []
  }
 ],
 "metadata": {
  "anaconda-cloud": {},
  "kernelspec": {
   "display_name": "Python [Root]",
   "language": "python",
   "name": "Python [Root]"
  },
  "language_info": {
   "codemirror_mode": {
    "name": "ipython",
    "version": 2
   },
   "file_extension": ".py",
   "mimetype": "text/x-python",
   "name": "python",
   "nbconvert_exporter": "python",
   "pygments_lexer": "ipython2",
   "version": "2.7.12"
  }
 },
 "nbformat": 4,
 "nbformat_minor": 0
}
